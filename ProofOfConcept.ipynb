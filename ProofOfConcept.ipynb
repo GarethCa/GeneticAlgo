{
 "cells": [
  {
   "cell_type": "markdown",
   "metadata": {},
   "source": [
    "# Genetic Algorithm Test\n",
    "This following notebook is a proof of concept of genetic algorithms. Showing the random initialisation of the population, mutating the population, and finding the global maximum of the fitness value.\n",
    "The crossover function that is implemented in this test does not deal with DNA in the traditional sense. In this case, a crossover of genes is the average of two DNA values of parents.\n",
    "\n",
    "GitHub: GarethCa"
   ]
  },
  {
   "cell_type": "code",
   "execution_count": 1,
   "metadata": {},
   "outputs": [],
   "source": [
    "import math\n",
    "import matplotlib.pyplot as plt\n",
    "import numpy as np\n",
    "import random"
   ]
  },
  {
   "cell_type": "code",
   "execution_count": 2,
   "metadata": {},
   "outputs": [
    {
     "data": {
      "text/plain": [
       "[<matplotlib.lines.Line2D at 0x7fdc1955f5c0>]"
      ]
     },
     "execution_count": 2,
     "metadata": {},
     "output_type": "execute_result"
    },
    {
     "data": {
      "image/png": "[encoded data removed]",
      "text/plain": [
       "<Figure size 432x288 with 1 Axes>"
      ]
     },
     "metadata": {},
     "output_type": "display_data"
    }
   ],
   "source": [
    "####\n",
    "# GA Parameters\n",
    "####\n",
    "mut_rate = 0.3\n",
    "####\n",
    "# Fitness Function - Defines the Fitness Landscape to traverse.\n",
    "####\n",
    "def fitness(x):\n",
    "    if x < -20 or x >20:\n",
    "        return 0\n",
    "    return abs((math.cos(x)*(x**2 + x) - (x**3) /5))\n",
    "\n",
    "# Display Fitness Landscape\n",
    "x = np.linspace(start=-22,stop=22,num=200)\n",
    "y = [fitness(num) for num in x]\n",
    "plt.plot(x,y)"
   ]
  },
  {
   "cell_type": "code",
   "execution_count": 3,
   "metadata": {},
   "outputs": [],
   "source": [
    "####\n",
    "# Define a member of the Population\n",
    "####\n",
    "class Member:\n",
    "    \n",
    "    def __init__(self,mut_step,parent1 = None, parent2=None):\n",
    "        if parent1 != None:\n",
    "            if parent2 != None:\n",
    "                self.crossover(parent1,parent2)\n",
    "                self.mutate(mut_step)\n",
    "            else:\n",
    "                self.dna = seed\n",
    "                self.mutate(mut_step)\n",
    "        else:\n",
    "            self.dna = random.randint(-50,50)/10\n",
    "        self.fitness = 0\n",
    "        \n",
    "    def mutate(self,mut_step):\n",
    "        if random.random() < mut_rate:\n",
    "            if random.random() < 0.5:\n",
    "                self.dna += mut_step * random.random()\n",
    "            else:\n",
    "                self.dna -= mut_step * random.random()\n",
    "    \n",
    "    def crossover(self,p1,p2):\n",
    "        self.dna = (p1.dna + p2.dna)/2\n",
    "    \n",
    "    def assessFitness(self):\n",
    "        self.fitness = fitness(self.dna)"
   ]
  },
  {
   "cell_type": "code",
   "execution_count": 4,
   "metadata": {},
   "outputs": [],
   "source": [
    "def calcFitness(population):\n",
    "    for member in population:\n",
    "        member.assessFitness()\n",
    "\n",
    "def nextGeneration(population, pop_size,mut_step):\n",
    "    ordered = sorted(population, key= lambda x: x.fitness, reverse=True)\n",
    "    prob = 0\n",
    "    del_indices = []\n",
    "    for i in range(len(ordered)): # Semi-Random Cull of worst Performers.\n",
    "        if random.random() < prob:\n",
    "            del_indices.append(i)\n",
    "        prob += 0.9/len(ordered)\n",
    "    for i in reversed(del_indices):\n",
    "        del ordered[i]\n",
    "    counter =0\n",
    "    while len(ordered) < pop_size:\n",
    "        mum = ordered[int(counter/3)]\n",
    "        dad = ordered[counter+1]\n",
    "        ordered.append(Member(mut_step,mum, dad))\n",
    "        counter +=1\n",
    "    return ordered"
   ]
  },
  {
   "cell_type": "markdown",
   "metadata": {},
   "source": [
    "The genetic algorithm calculates the fitness of each member of the population, then selectively kills off the worst performers. To regain the population, breeding occurs which creates new members which are like their parents but with mutation as to apply more variation to the population.\n",
    "By selectively choosing the best performers, we can make the population's fitnesses approach an optimal value. To avoid getting stuck in local minima, we can increase the step size we move for each generation where we do not find a better performer. This is as to potentially randomly mutate to find a higher hill in the fitness landscape."
   ]
  },
  {
   "cell_type": "code",
   "execution_count": 5,
   "metadata": {},
   "outputs": [],
   "source": [
    "def geneticAlgorithm(generations=300,pop_size=20):\n",
    "    history_y = [0]\n",
    "    history_x = [0]\n",
    "    mut_step =1\n",
    "    population =  [Member(mut_step) for i in range(pop_size)]\n",
    "    for gen in range(generations):\n",
    "        calcFitness(population)\n",
    "        fitnesses = [x.fitness for x in population]\n",
    "        max_fitness = max(fitnesses)\n",
    "        index = fitnesses.index(max_fitness)\n",
    "        \n",
    "        # Every Ten Generations, display stats of mutation.\n",
    "        if gen % 10 == 0: \n",
    "            print(\"Generation {} has best fitness {:.2f} at x = {:.2f}\".format(gen+1,max_fitness,population[index].dna)) \n",
    "       \n",
    "        \n",
    "        # Avoid being stuck in local minima.\n",
    "        if max_fitness == history_y[-1]:\n",
    "            mut_step +=0.4\n",
    "        else:\n",
    "            mut_step = 1\n",
    "        history_y.append(max_fitness)\n",
    "        history_x.append(population[index].dna)\n",
    "        population = nextGeneration(population,pop_size,mut_step)\n",
    "    return history_x, history_y"
   ]
  },
  {
   "cell_type": "code",
   "execution_count": 6,
   "metadata": {},
   "outputs": [
    {
     "name": "stdout",
     "output_type": "stream",
     "text": [
      "Generation 1 has best fitness 30.67 at x = -5.00\n",
      "Generation 11 has best fitness 73.38 at x = -6.03\n",
      "Generation 21 has best fitness 102.00 at x = -7.30\n",
      "Generation 31 has best fitness 102.00 at x = -7.30\n",
      "Generation 41 has best fitness 102.00 at x = -7.30\n",
      "Generation 51 has best fitness 437.33 at x = -11.89\n",
      "Generation 61 has best fitness 591.41 at x = -13.27\n",
      "Generation 71 has best fitness 1767.98 at x = -19.46\n",
      "Generation 81 has best fitness 1772.71 at x = -19.63\n",
      "Generation 91 has best fitness 1772.71 at x = -19.63\n",
      "Generation 101 has best fitness 1772.71 at x = -19.63\n",
      "Generation 111 has best fitness 1772.71 at x = -19.63\n",
      "Generation 121 has best fitness 1772.71 at x = -19.63\n",
      "Generation 131 has best fitness 1772.71 at x = -19.63\n",
      "Generation 141 has best fitness 1772.71 at x = -19.63\n",
      "Generation 151 has best fitness 1772.71 at x = -19.63\n",
      "Generation 161 has best fitness 1772.71 at x = -19.63\n",
      "Generation 171 has best fitness 1772.71 at x = -19.63\n",
      "Generation 181 has best fitness 1772.71 at x = -19.63\n",
      "Generation 191 has best fitness 1772.71 at x = -19.63\n",
      "Generation 201 has best fitness 1772.71 at x = -19.63\n",
      "Generation 211 has best fitness 1772.71 at x = -19.63\n",
      "Generation 221 has best fitness 1772.71 at x = -19.63\n",
      "Generation 231 has best fitness 1772.71 at x = -19.63\n",
      "Generation 241 has best fitness 1772.71 at x = -19.63\n",
      "Generation 251 has best fitness 1772.71 at x = -19.63\n",
      "Generation 261 has best fitness 1772.71 at x = -19.63\n",
      "Generation 271 has best fitness 1772.71 at x = -19.63\n",
      "Generation 281 has best fitness 1772.71 at x = -19.63\n",
      "Generation 291 has best fitness 1772.71 at x = -19.63\n"
     ]
    }
   ],
   "source": [
    "his_x, his_y = geneticAlgorithm() # Finished Algorithm"
   ]
  },
  {
   "cell_type": "code",
   "execution_count": 7,
   "metadata": {},
   "outputs": [
    {
     "data": {
      "text/plain": [
       "<matplotlib.collections.PathCollection at 0x7fdc1950ec18>"
      ]
     },
     "execution_count": 7,
     "metadata": {},
     "output_type": "execute_result"
    },
    {
     "data": {
      "image/png": "[encoded data removed]",
      "text/plain": [
       "<Figure size 432x288 with 1 Axes>"
      ]
     },
     "metadata": {},
     "output_type": "display_data"
    }
   ],
   "source": [
    "plt.plot(x,y)                            # Plot the feature landscape\n",
    "plt.scatter(his_x[:-1],his_y[:-1])       # Show history of best fitnesses.\n",
    "plt.scatter(his_x[-1], his_y[-1], c='r') # Show Final Max Value."
   ]
  },
  {
   "cell_type": "code",
   "execution_count": null,
   "metadata": {},
   "outputs": [],
   "source": []
  },
  {
   "cell_type": "code",
   "execution_count": null,
   "metadata": {},
   "outputs": [],
   "source": []
  }
 ],
 "metadata": {
  "kernelspec": {
   "display_name": "Python 3",
   "language": "python",
   "name": "python3"
  },
  "language_info": {
   "codemirror_mode": {
    "name": "ipython",
    "version": 3
   },
   "file_extension": ".py",
   "mimetype": "text/x-python",
   "name": "python",
   "nbconvert_exporter": "python",
   "pygments_lexer": "ipython3",
   "version": "3.6.5"
  }
 },
 "nbformat": 4,
 "nbformat_minor": 2
}
